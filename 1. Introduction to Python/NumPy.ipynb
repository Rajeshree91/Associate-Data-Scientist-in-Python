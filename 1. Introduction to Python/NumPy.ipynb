{
  "nbformat": 4,
  "nbformat_minor": 0,
  "metadata": {
    "colab": {
      "provenance": []
    },
    "kernelspec": {
      "name": "python3",
      "display_name": "Python 3"
    },
    "language_info": {
      "name": "python"
    }
  },
  "cells": [
    {
      "cell_type": "markdown",
      "source": [
        "![Numpy.png](data:image/png;base64,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)"
      ],
      "metadata": {
        "id": "kPkDsMkbaLZw"
      }
    },
    {
      "cell_type": "markdown",
      "source": [
        "# Your First NumPy Array"
      ],
      "metadata": {
        "id": "dqusISy-aPJe"
      }
    },
    {
      "cell_type": "markdown",
      "source": [
        "Instructions\n",
        "\n",
        "*   Import the numpy package as **np**, so that you can refer to numpy with np\n",
        "*   Use **np.array()** to create a numpy array from baseball. Name this array **np_baseball**.\n",
        "\n",
        "*   Print out the type of *np_baseball* to check that you got it right.\n",
        "\n"
      ],
      "metadata": {
        "id": "Ods3ifksjWdW"
      }
    },
    {
      "cell_type": "code",
      "source": [
        "# Create list baseball\n",
        "baseball = [180, 215, 210, 210, 188, 176, 209, 200]\n",
        "\n",
        "# Import the numpy package as np\n",
        "import numpy as np\n",
        "\n",
        "# Create a numpy array from baseball: np_baseball\n",
        "np_baseball = np.array(baseball)\n",
        "\n",
        "# Print out type of np_baseball\n",
        "print(type(np_baseball))\n"
      ],
      "metadata": {
        "colab": {
          "base_uri": "https://localhost:8080/"
        },
        "id": "632RadApbJrn",
        "outputId": "d1638ea7-243b-4233-a7a9-e8f3926cb972"
      },
      "execution_count": null,
      "outputs": [
        {
          "output_type": "stream",
          "name": "stdout",
          "text": [
            "<class 'numpy.ndarray'>\n"
          ]
        }
      ]
    },
    {
      "cell_type": "markdown",
      "source": [
        "# Baseball players' height"
      ],
      "metadata": {
        "id": "N9VT3Q1cbJjT"
      }
    },
    {
      "cell_type": "markdown",
      "source": [
        "Instructions\n",
        "\n",
        "*   Create a numpy array from **height_in**. Name this new array **np_height_in**.\n",
        "*   Print np_height_in\n",
        "*   Multiply ***np_height_in*** with 0.0254 to convert all height measurements from inches to meters. Store the new values in a new array, ***np_height_m***\n",
        "*   Print out np_height_m and check if the output makes sense"
      ],
      "metadata": {
        "id": "Psjrn603jcAi"
      }
    },
    {
      "cell_type": "code",
      "source": [
        "import pandas as pd\n",
        "mlb = pd.read_csv(\"https://assets.datacamp.com/course/intro_to_python/baseball.csv\")\n",
        "height_in = mlb['Height'].tolist()\n",
        "weight_lb = mlb['Weight'].tolist()\n",
        "\n",
        "# Import numpy\n",
        "import numpy as np\n",
        "\n",
        "# Create numpy array from height_in: np_height_in\n",
        "np_height_in = np.array(height_in)\n",
        "\n",
        "# Print out np_height_in\n",
        "print(np_height_in)"
      ],
      "metadata": {
        "colab": {
          "base_uri": "https://localhost:8080/"
        },
        "id": "MLsrnLa_bTux",
        "outputId": "f0ce13a7-7d7e-4ca7-f23c-4bcd5e01c638"
      },
      "execution_count": null,
      "outputs": [
        {
          "output_type": "stream",
          "name": "stdout",
          "text": [
            "[74 74 72 ... 75 75 73]\n"
          ]
        }
      ]
    },
    {
      "cell_type": "code",
      "source": [
        "# Convert np_height_in to m: np_height_m\n",
        "np_height_m = np_height_in * 0.0254\n",
        "\n",
        "# Print np_height_m\n",
        "print(np_height_m)\n"
      ],
      "metadata": {
        "colab": {
          "base_uri": "https://localhost:8080/"
        },
        "id": "a0lBmWMXcShh",
        "outputId": "76b78a25-c3d8-49c7-ed67-3e980b6f618a"
      },
      "execution_count": null,
      "outputs": [
        {
          "output_type": "stream",
          "name": "stdout",
          "text": [
            "[1.8796 1.8796 1.8288 ... 1.905  1.905  1.8542]\n"
          ]
        }
      ]
    },
    {
      "cell_type": "markdown",
      "source": [
        "# Subsetting NumPy Arrays"
      ],
      "metadata": {
        "id": "9ZC-9I6HbX8o"
      }
    },
    {
      "cell_type": "markdown",
      "source": [
        "Instructions\n",
        "\n",
        "*   Subset np_weight_lb by printing out the element at index 50.\n",
        "*   Print out a sub-array of np_height_in that contains the elements at index 100 up to and including index 110.\n",
        "\n"
      ],
      "metadata": {
        "id": "JwzuNY68psBP"
      }
    },
    {
      "cell_type": "code",
      "source": [
        "# height and weight are available as a regular lists\n",
        "\n",
        "# Import numpy\n",
        "import numpy as np\n",
        "\n",
        "# Store weight and height lists as numpy arrays\n",
        "np_weight_lb = np.array(weight_lb)\n",
        "np_height_in = np.array(height_in)"
      ],
      "metadata": {
        "id": "W8-HKZINOgNR"
      },
      "execution_count": null,
      "outputs": []
    },
    {
      "cell_type": "code",
      "source": [
        "# Print out the weight at index 50\n",
        "print(np_weight_lb[50])"
      ],
      "metadata": {
        "colab": {
          "base_uri": "https://localhost:8080/"
        },
        "id": "9mVU4UATOh3f",
        "outputId": "9a37055b-4b4f-4249-d93b-9978ce08e5e3"
      },
      "execution_count": null,
      "outputs": [
        {
          "output_type": "stream",
          "name": "stdout",
          "text": [
            "200\n"
          ]
        }
      ]
    },
    {
      "cell_type": "code",
      "source": [
        "# Print out sub-array of np_height_in: index 100 up to and including index 110\n",
        "print(np_height_in[100:111])"
      ],
      "metadata": {
        "colab": {
          "base_uri": "https://localhost:8080/"
        },
        "id": "Tdmq3lB1O6lj",
        "outputId": "6f16b84a-2fe1-4dfa-a6c8-61b45ffd0a1b"
      },
      "execution_count": null,
      "outputs": [
        {
          "output_type": "stream",
          "name": "stdout",
          "text": [
            "[73 74 72 73 69 72 73 75 75 73 72]\n"
          ]
        }
      ]
    },
    {
      "cell_type": "markdown",
      "source": [
        "# Your First 2D NumPy Array"
      ],
      "metadata": {
        "id": "s9huc5O4bdYQ"
      }
    },
    {
      "cell_type": "markdown",
      "source": [
        "Instructions\n",
        "\n",
        "*   Use **np.array()** to create a 2D numpy array from baseball. Name it **np_baseball.**\n",
        "*   Print out the type of **np_baseball.**\n",
        "*   Print out the shape attribute of **np_baseball.** Use **np_baseball.**shape"
      ],
      "metadata": {
        "id": "LcQQ3x02ptHR"
      }
    },
    {
      "cell_type": "code",
      "source": [
        "# Create baseball, a list of lists\n",
        "baseball = [[180, 78.4],\n",
        "            [215, 102.7],\n",
        "            [210, 98.5],\n",
        "            [188, 75.2]]"
      ],
      "metadata": {
        "id": "0UUa2gfEPcTg"
      },
      "execution_count": null,
      "outputs": []
    },
    {
      "cell_type": "code",
      "source": [
        "# Import numpy\n",
        "import numpy as np\n",
        "\n",
        "# Create a 2D numpy array from baseball: np_baseball\n",
        "np_baseball = np.array(baseball)\n",
        "\n",
        "# Print out the type of np_baseball\n",
        "print(type(np_baseball))"
      ],
      "metadata": {
        "colab": {
          "base_uri": "https://localhost:8080/"
        },
        "id": "mVoQqljrPghF",
        "outputId": "940ba844-31a0-49ef-e95f-2755f0acafbd"
      },
      "execution_count": null,
      "outputs": [
        {
          "output_type": "stream",
          "name": "stdout",
          "text": [
            "<class 'numpy.ndarray'>\n"
          ]
        }
      ]
    },
    {
      "cell_type": "code",
      "source": [
        "# Print out the shape of np_baseball\n",
        "print(np_baseball.shape)\n"
      ],
      "metadata": {
        "colab": {
          "base_uri": "https://localhost:8080/"
        },
        "id": "yVjk_HlyPiY-",
        "outputId": "57c287db-ca1f-4036-b1cc-36cc173daba5"
      },
      "execution_count": null,
      "outputs": [
        {
          "output_type": "stream",
          "name": "stdout",
          "text": [
            "(4, 2)\n"
          ]
        }
      ]
    },
    {
      "cell_type": "markdown",
      "source": [
        "# Baseball data in 2D form"
      ],
      "metadata": {
        "id": "jK4MOwEJbi2X"
      }
    },
    {
      "cell_type": "markdown",
      "source": [
        "Instructions\n",
        "\n",
        "*   Use **np.array()** to create a 2D numpy array from baseball. Name it **np_baseball**.\n",
        "*   Print out the shape attribute of **np_baseball.**\n"
      ],
      "metadata": {
        "id": "8lHtPm4Ipusi"
      }
    },
    {
      "cell_type": "code",
      "source": [
        "import pandas as pd\n",
        "baseball = pd.read_csv(\"https://assets.datacamp.com/course/intro_to_python/baseball.csv\")[['Height', 'Weight']].to_numpy().tolist()\n",
        "import numpy as np"
      ],
      "metadata": {
        "id": "isNBgNv8RYvh"
      },
      "execution_count": null,
      "outputs": []
    },
    {
      "cell_type": "code",
      "source": [
        "print(baseball)"
      ],
      "metadata": {
        "colab": {
          "base_uri": "https://localhost:8080/"
        },
        "id": "qY6TSywERel5",
        "outputId": "c9880594-7e48-4181-9351-0b66172df08a"
      },
      "execution_count": null,
      "outputs": [
        {
          "output_type": "stream",
          "name": "stdout",
          "text": [
            "[[74, 180], [74, 215], [72, 210], [72, 210], [73, 188], [69, 176], [69, 209], [71, 200], [76, 231], [71, 180], [73, 188], [73, 180], [74, 185], [74, 160], [69, 180], [70, 185], [73, 189], [75, 185], [78, 219], [79, 230], [76, 205], [74, 230], [76, 195], [72, 180], [71, 192], [75, 225], [77, 203], [74, 195], [73, 182], [74, 188], [78, 200], [73, 180], [75, 200], [73, 200], [75, 245], [75, 240], [74, 215], [69, 185], [71, 175], [74, 199], [73, 200], [73, 215], [76, 200], [74, 205], [74, 206], [70, 186], [72, 188], [77, 220], [74, 210], [70, 195], [73, 200], [75, 200], [76, 212], [76, 224], [78, 210], [74, 205], [74, 220], [76, 195], [77, 200], [81, 260], [78, 228], [75, 270], [77, 200], [75, 210], [76, 190], [74, 220], [72, 180], [72, 205], [75, 210], [73, 220], [73, 211], [73, 200], [70, 180], [70, 190], [70, 170], [76, 230], [68, 155], [71, 185], [72, 185], [75, 200], [75, 225], [75, 225], [75, 220], [68, 160], [74, 205], [78, 235], [71, 250], [73, 210], [76, 190], [74, 160], [74, 200], [79, 205], [75, 222], [73, 195], [76, 205], [74, 220], [74, 220], [73, 170], [72, 185], [74, 195], [73, 220], [74, 230], [72, 180], [73, 220], [69, 180], [72, 180], [73, 170], [75, 210], [75, 215], [73, 200], [72, 213], [72, 180], [76, 192], [74, 235], [72, 185], [77, 235], [74, 210], [77, 222], [75, 210], [76, 230], [80, 220], [74, 180], [74, 190], [75, 200], [78, 210], [73, 194], [73, 180], [74, 190], [75, 240], [76, 200], [71, 198], [73, 200], [74, 195], [76, 210], [76, 220], [74, 190], [73, 210], [74, 225], [70, 180], [72, 185], [73, 170], [73, 185], [73, 185], [73, 180], [71, 178], [74, 175], [74, 200], [72, 204], [74, 211], [71, 190], [74, 210], [73, 190], [75, 190], [75, 185], [79, 290], [73, 175], [75, 185], [76, 200], [74, 220], [76, 170], [78, 220], [74, 190], [76, 220], [72, 205], [74, 200], [76, 250], [74, 225], [75, 215], [78, 210], [75, 215], [72, 195], [74, 200], [72, 194], [74, 220], [70, 180], [71, 180], [70, 170], [75, 195], [71, 180], [71, 170], [73, 206], [72, 205], [71, 200], [73, 225], [72, 201], [75, 225], [74, 233], [74, 180], [75, 225], [73, 180], [77, 220], [73, 180], [76, 237], [75, 215], [74, 190], [76, 235], [75, 190], [73, 180], [71, 165], [76, 195], [75, 200], [72, 190], [71, 190], [77, 185], [73, 185], [74, 205], [71, 190], [72, 205], [74, 206], [75, 220], [73, 208], [72, 170], [75, 195], [75, 210], [74, 190], [72, 211], [74, 230], [71, 170], [70, 185], [74, 185], [77, 241], [77, 225], [75, 210], [75, 175], [78, 230], [75, 200], [76, 215], [73, 198], [75, 226], [75, 278], [79, 215], [77, 230], [76, 240], [71, 184], [75, 219], [74, 170], [69, 218], [71, 190], [76, 225], [72, 220], [72, 176], [70, 190], [72, 197], [73, 204], [71, 167], [72, 180], [71, 195], [73, 220], [72, 215], [73, 185], [74, 190], [74, 205], [72, 205], [75, 200], [74, 210], [74, 215], [77, 200], [75, 205], [73, 211], [72, 190], [71, 208], [74, 200], [77, 210], [75, 232], [75, 230], [75, 210], [78, 220], [78, 210], [74, 202], [76, 212], [78, 225], [76, 170], [70, 190], [72, 200], [80, 237], [74, 220], [74, 170], [71, 193], [70, 190], [72, 150], [71, 220], [74, 200], [71, 190], [72, 185], [71, 185], [74, 200], [69, 172], [76, 220], [75, 225], [75, 190], [76, 195], [73, 219], [76, 190], [73, 197], [77, 200], [73, 195], [72, 210], [72, 177], [77, 220], [77, 235], [71, 180], [74, 195], [74, 195], [73, 190], [78, 230], [75, 190], [73, 200], [70, 190], [74, 190], [72, 200], [73, 200], [73, 184], [75, 200], [75, 180], [74, 219], [76, 187], [73, 200], [74, 220], [75, 205], [75, 190], [72, 170], [73, 160], [73, 215], [72, 175], [74, 205], [78, 200], [76, 214], [73, 200], [74, 190], [75, 180], [70, 205], [75, 220], [71, 190], [72, 215], [78, 235], [75, 191], [73, 200], [73, 181], [71, 200], [75, 210], [77, 240], [72, 185], [69, 165], [73, 190], [74, 185], [72, 175], [70, 155], [75, 210], [70, 170], [72, 175], [72, 220], [74, 210], [73, 205], [74, 200], [76, 205], [75, 195], [80, 240], [72, 150], [75, 200], [73, 215], [74, 202], [74, 200], [73, 190], [75, 205], [75, 190], [71, 160], [73, 215], [75, 185], [74, 200], [74, 190], [72, 210], [74, 185], [74, 220], [74, 190], [73, 202], [76, 205], [75, 220], [72, 175], [73, 160], [73, 190], [73, 200], [72, 229], [72, 206], [72, 220], [72, 180], [71, 195], [75, 175], [75, 188], [74, 230], [73, 190], [75, 200], [79, 190], [74, 219], [76, 235], [73, 180], [74, 180], [74, 180], [72, 200], [74, 234], [74, 185], [75, 220], [78, 223], [74, 200], [74, 210], [74, 200], [77, 210], [70, 190], [73, 177], [74, 227], [73, 180], [71, 195], [75, 199], [71, 175], [72, 185], [77, 240], [74, 210], [70, 180], [77, 194], [73, 225], [72, 180], [76, 205], [71, 193], [76, 230], [78, 230], [75, 220], [73, 200], [78, 249], [74, 190], [79, 208], [75, 245], [76, 250], [72, 160], [75, 192], [75, 220], [70, 170], [72, 197], [70, 155], [74, 190], [71, 200], [76, 220], [73, 210], [76, 228], [71, 190], [69, 160], [72, 184], [72, 180], [69, 180], [73, 200], [69, 176], [73, 160], [74, 222], [74, 211], [72, 195], [71, 200], [72, 175], [72, 206], [76, 240], [76, 185], [76, 260], [74, 185], [76, 221], [75, 205], [71, 200], [72, 170], [71, 201], [73, 205], [75, 185], [76, 205], [75, 245], [71, 220], [75, 210], [74, 220], [72, 185], [73, 175], [73, 170], [73, 180], [73, 200], [76, 210], [72, 175], [76, 220], [73, 206], [73, 180], [73, 210], [75, 195], [75, 200], [77, 200], [73, 164], [72, 180], [75, 220], [70, 195], [74, 205], [72, 170], [80, 240], [71, 210], [71, 195], [74, 200], [74, 205], [73, 192], [75, 190], [76, 170], [73, 240], [77, 200], [72, 205], [73, 175], [77, 250], [76, 220], [71, 224], [75, 210], [73, 195], [74, 180], [77, 245], [71, 175], [72, 180], [73, 215], [69, 175], [73, 180], [70, 195], [74, 230], [76, 230], [73, 205], [73, 215], [75, 195], [73, 180], [79, 205], [74, 180], [73, 190], [74, 180], [77, 190], [75, 190], [74, 220], [73, 210], [77, 255], [73, 190], [77, 230], [74, 200], [74, 205], [73, 210], [77, 225], [74, 215], [77, 220], [75, 205], [77, 200], [75, 220], [71, 197], [74, 225], [70, 187], [79, 245], [72, 185], [72, 185], [70, 175], [74, 200], [74, 180], [72, 188], [73, 225], [72, 200], [74, 210], [74, 245], [76, 213], [82, 231], [74, 165], [74, 228], [70, 210], [73, 250], [73, 191], [74, 190], [77, 200], [72, 215], [76, 254], [73, 232], [73, 180], [72, 215], [74, 220], [74, 180], [71, 200], [72, 170], [75, 195], [74, 210], [74, 200], [77, 220], [70, 165], [71, 180], [73, 200], [76, 200], [71, 170], [75, 224], [74, 220], [72, 180], [76, 198], [79, 240], [76, 239], [73, 185], [76, 210], [78, 220], [75, 200], [76, 195], [72, 220], [72, 230], [73, 170], [73, 220], [75, 230], [71, 165], [76, 205], [70, 192], [75, 210], [74, 205], [75, 200], [73, 210], [71, 185], [71, 195], [72, 202], [73, 205], [73, 195], [72, 180], [69, 200], [73, 185], [78, 240], [71, 185], [73, 220], [75, 205], [76, 205], [70, 180], [74, 201], [77, 190], [75, 208], [79, 240], [72, 180], [77, 230], [73, 195], [75, 215], [75, 190], [75, 195], [73, 215], [73, 215], [76, 220], [77, 220], [75, 230], [70, 195], [71, 190], [71, 195], [75, 209], [74, 204], [69, 170], [70, 185], [75, 205], [72, 175], [75, 210], [73, 190], [72, 180], [72, 180], [72, 160], [76, 235], [75, 200], [74, 210], [69, 180], [73, 190], [72, 197], [72, 203], [75, 205], [77, 170], [76, 200], [80, 250], [77, 200], [76, 220], [79, 200], [71, 190], [75, 170], [73, 190], [76, 220], [77, 215], [73, 206], [76, 215], [70, 185], [75, 235], [73, 188], [75, 230], [70, 195], [69, 168], [71, 190], [72, 160], [72, 200], [73, 200], [70, 189], [70, 180], [73, 190], [76, 200], [75, 220], [72, 187], [73, 240], [79, 190], [71, 180], [72, 185], [74, 210], [74, 220], [74, 219], [72, 190], [76, 193], [76, 175], [72, 180], [72, 215], [71, 210], [72, 200], [72, 190], [70, 185], [77, 220], [74, 170], [72, 195], [76, 205], [71, 195], [76, 210], [71, 190], [73, 190], [70, 180], [73, 220], [73, 190], [72, 186], [71, 185], [71, 190], [71, 180], [72, 190], [72, 170], [74, 210], [74, 240], [74, 220], [71, 180], [72, 210], [75, 210], [72, 195], [71, 160], [72, 180], [72, 205], [72, 200], [72, 185], [74, 245], [74, 190], [77, 210], [75, 200], [73, 200], [75, 222], [73, 215], [76, 240], [72, 170], [77, 220], [75, 156], [72, 190], [71, 202], [71, 221], [75, 200], [72, 190], [73, 210], [73, 190], [71, 200], [70, 165], [75, 190], [71, 185], [76, 230], [73, 208], [68, 209], [71, 175], [72, 180], [74, 200], [77, 205], [72, 200], [76, 250], [78, 210], [81, 230], [72, 244], [73, 202], [76, 240], [72, 200], [72, 215], [74, 177], [76, 210], [73, 170], [76, 215], [75, 217], [70, 198], [71, 200], [74, 220], [72, 170], [73, 200], [76, 230], [76, 231], [73, 183], [71, 192], [68, 167], [71, 190], [71, 180], [74, 180], [77, 215], [69, 160], [72, 205], [76, 223], [75, 175], [76, 170], [75, 190], [76, 240], [72, 175], [74, 230], [76, 223], [74, 196], [72, 167], [75, 195], [78, 190], [77, 250], [70, 190], [72, 190], [79, 190], [74, 170], [71, 160], [68, 150], [77, 225], [75, 220], [71, 209], [72, 210], [70, 176], [72, 260], [72, 195], [73, 190], [72, 184], [74, 180], [72, 195], [72, 195], [75, 219], [72, 225], [73, 212], [74, 202], [72, 185], [78, 200], [75, 209], [72, 200], [74, 195], [75, 228], [75, 210], [76, 190], [74, 212], [74, 190], [73, 218], [74, 220], [71, 190], [74, 235], [75, 210], [76, 200], [74, 188], [76, 210], [76, 235], [73, 188], [75, 215], [75, 216], [74, 220], [68, 180], [72, 185], [75, 200], [71, 210], [70, 220], [72, 185], [73, 231], [72, 210], [75, 195], [74, 200], [70, 205], [76, 200], [71, 190], [82, 250], [72, 185], [73, 180], [74, 170], [71, 180], [75, 208], [77, 235], [72, 215], [74, 244], [72, 220], [73, 185], [78, 230], [77, 190], [73, 200], [73, 180], [73, 190], [73, 196], [73, 180], [76, 230], [75, 224], [70, 160], [73, 178], [72, 205], [73, 185], [75, 210], [74, 180], [73, 190], [73, 200], [76, 257], [73, 190], [75, 220], [70, 165], [77, 205], [72, 200], [77, 208], [74, 185], [75, 215], [75, 170], [75, 235], [75, 210], [72, 170], [74, 180], [71, 170], [76, 190], [71, 150], [75, 230], [76, 203], [83, 260], [75, 246], [74, 186], [76, 210], [72, 198], [72, 210], [75, 215], [75, 180], [72, 200], [77, 245], [73, 200], [72, 192], [70, 192], [74, 200], [72, 192], [74, 205], [72, 190], [71, 186], [70, 170], [71, 197], [76, 219], [74, 200], [76, 220], [74, 207], [74, 225], [74, 207], [75, 212], [75, 225], [71, 170], [71, 190], [74, 210], [77, 230], [71, 210], [74, 200], [75, 238], [77, 234], [76, 222], [74, 200], [76, 190], [72, 170], [71, 220], [72, 223], [75, 210], [73, 215], [68, 196], [72, 175], [69, 175], [73, 189], [73, 205], [75, 210], [70, 180], [70, 180], [74, 197], [75, 220], [74, 228], [74, 190], [73, 204], [74, 165], [75, 216], [77, 220], [73, 208], [74, 210], [76, 215], [74, 195], [75, 200], [73, 215], [76, 229], [78, 240], [75, 207], [73, 205], [77, 208], [74, 185], [72, 190], [74, 170], [72, 208], [71, 225], [73, 190], [75, 225], [73, 185], [67, 180], [67, 165], [76, 240], [74, 220], [73, 212], [70, 163], [75, 215], [70, 175], [72, 205], [77, 210], [79, 205], [78, 208], [74, 215], [75, 180], [75, 200], [78, 230], [76, 211], [75, 230], [69, 190], [75, 220], [72, 180], [75, 205], [73, 190], [74, 180], [75, 205], [75, 190], [73, 195]]\n"
          ]
        }
      ]
    },
    {
      "cell_type": "code",
      "source": [
        "# Create a 2D numpy array from baseball: np_baseball\n",
        "np_baseball = np.array(baseball)\n",
        "\n",
        "# Print out the shape of np_baseball\n",
        "print(np_baseball.shape)\n"
      ],
      "metadata": {
        "colab": {
          "base_uri": "https://localhost:8080/"
        },
        "id": "jEctYzHMZY2b",
        "outputId": "dcfd4610-8138-4154-889b-483b35cb8de6"
      },
      "execution_count": null,
      "outputs": [
        {
          "output_type": "stream",
          "name": "stdout",
          "text": [
            "(1015, 2)\n"
          ]
        }
      ]
    },
    {
      "cell_type": "markdown",
      "source": [
        "# Subsetting 2D NumPy Arrays"
      ],
      "metadata": {
        "id": "zAfUBgtCbmPu"
      }
    },
    {
      "cell_type": "markdown",
      "source": [
        "Instructions\n",
        "\n",
        "*   Print out the 50th row of **np_baseball**.\n",
        "*   Make a new variable, **np_weight_lb**, containing the entire second column of **np_baseball**.\n",
        "*   Select the height (first column) of the 124th baseball player in np_baseball and print it out."
      ],
      "metadata": {
        "id": "o41kzK02pvvz"
      }
    },
    {
      "cell_type": "code",
      "source": [
        "# Print out the 50th row of np_baseball\n",
        "print(np_baseball[49,:])"
      ],
      "metadata": {
        "colab": {
          "base_uri": "https://localhost:8080/"
        },
        "id": "ZITTF8roZmDV",
        "outputId": "a7aae305-4b97-4fc1-f553-8575c5a14a59"
      },
      "execution_count": null,
      "outputs": [
        {
          "output_type": "stream",
          "name": "stdout",
          "text": [
            "[ 70 195]\n"
          ]
        }
      ]
    },
    {
      "cell_type": "code",
      "source": [
        "# Select the entire second column of np_baseball: np_weight_lb\n",
        "np_weight_lb = np_baseball[:,1]"
      ],
      "metadata": {
        "id": "1Ykko96_ZnSB"
      },
      "execution_count": null,
      "outputs": []
    },
    {
      "cell_type": "code",
      "source": [
        "# Print out height of 124th player\n",
        "print(np_baseball[123][0])"
      ],
      "metadata": {
        "colab": {
          "base_uri": "https://localhost:8080/"
        },
        "id": "JP7HxI6zZtX9",
        "outputId": "f687c512-48a4-45c5-bc3e-1b823e85d245"
      },
      "execution_count": null,
      "outputs": [
        {
          "output_type": "stream",
          "name": "stdout",
          "text": [
            "75\n"
          ]
        }
      ]
    },
    {
      "cell_type": "markdown",
      "source": [
        "# 2D Arithmetic"
      ],
      "metadata": {
        "id": "Aqf00pJqbp5A"
      }
    },
    {
      "cell_type": "markdown",
      "source": [
        "Instructions\n",
        "\n",
        "*   You managed to get hold of the changes in ***height***, ***weight*** and ***age*** of all baseball players. It is available as a 2D numpy array, updated. Add **np_baseball** and updated and print out the result.                                                                    \n",
        "*   You want to convert the units of **height** and **weight** to metric (**meters** and **kilograms**, respectively). As a first step, create a numpy array with three values: **0.0254, 0.453592 and 1**. Name this array conversion                                                                 \n",
        "*   Multiply **np_baseball** with conversion and print out the result."
      ],
      "metadata": {
        "id": "xNAoIZRHpwvp"
      }
    },
    {
      "cell_type": "code",
      "source": [
        "updated = np.array(pd.read_csv(\"https://assets.datacamp.com/course/intro_to_python/update.csv\", header = None))\n",
        "import numpy as np"
      ],
      "metadata": {
        "id": "e31acIscab1k"
      },
      "execution_count": null,
      "outputs": []
    },
    {
      "cell_type": "code",
      "source": [
        "print(updated)"
      ],
      "metadata": {
        "colab": {
          "base_uri": "https://localhost:8080/"
        },
        "id": "tS3q93viagPg",
        "outputId": "46ea6158-7cb8-4aeb-b14b-cbb0948a1748"
      },
      "execution_count": null,
      "outputs": [
        {
          "output_type": "stream",
          "name": "stdout",
          "text": [
            "[[  1.2303559  -11.16224898   1.        ]\n",
            " [  1.02614252  16.09732309   1.        ]\n",
            " [  1.1544228    5.08167641   1.        ]\n",
            " ...\n",
            " [  1.09349925   4.23890778   1.        ]\n",
            " [  0.82285669 -17.78200035   1.        ]\n",
            " [  0.99484223   8.14402711   1.        ]]\n"
          ]
        }
      ]
    },
    {
      "cell_type": "code",
      "source": [
        "# Create np_baseball (3 cols)\n",
        "np_baseball = np.array(baseball)\n",
        "print(np_baseball)"
      ],
      "metadata": {
        "colab": {
          "base_uri": "https://localhost:8080/"
        },
        "id": "pUmj6XAjalA8",
        "outputId": "523ec1e8-5cdd-4c8e-d5c8-b0ad28664aa8"
      },
      "execution_count": null,
      "outputs": [
        {
          "output_type": "stream",
          "name": "stdout",
          "text": [
            "[[ 74 180]\n",
            " [ 74 215]\n",
            " [ 72 210]\n",
            " ...\n",
            " [ 75 205]\n",
            " [ 75 190]\n",
            " [ 73 195]]\n"
          ]
        }
      ]
    },
    {
      "cell_type": "code",
      "source": [
        "import pandas as pd\n",
        "import numpy as np\n",
        "baseball = pd.read_csv(\"https://assets.datacamp.com/course/intro_to_python/baseball.csv\")[['Height', 'Weight', 'Age']].to_numpy().tolist()\n",
        "n = len(baseball)"
      ],
      "metadata": {
        "id": "FohbbCR1bGzP"
      },
      "execution_count": null,
      "outputs": []
    },
    {
      "cell_type": "code",
      "source": [
        "\n",
        "# Create np_baseball (3 cols)\n",
        "np_baseball = np.array(baseball)\n",
        "print(np_baseball)"
      ],
      "metadata": {
        "colab": {
          "base_uri": "https://localhost:8080/"
        },
        "id": "gJsBuFJ-bJ5u",
        "outputId": "854656ea-cfb4-4d46-9595-4f4cc00cba1d"
      },
      "execution_count": null,
      "outputs": [
        {
          "output_type": "stream",
          "name": "stdout",
          "text": [
            "[[ 74.   180.    22.99]\n",
            " [ 74.   215.    34.69]\n",
            " [ 72.   210.    30.78]\n",
            " ...\n",
            " [ 75.   205.    25.19]\n",
            " [ 75.   190.    31.01]\n",
            " [ 73.   195.    27.92]]\n"
          ]
        }
      ]
    },
    {
      "cell_type": "code",
      "source": [
        "# Print out addition of np_baseball and updated\n",
        "print(np_baseball + updated)"
      ],
      "metadata": {
        "colab": {
          "base_uri": "https://localhost:8080/"
        },
        "id": "4UsCMZlobO5H",
        "outputId": "db988b39-29e2-4b6e-84c3-8e595db5a5b6"
      },
      "execution_count": null,
      "outputs": [
        {
          "output_type": "stream",
          "name": "stdout",
          "text": [
            "[[ 75.2303559  168.83775102  23.99      ]\n",
            " [ 75.02614252 231.09732309  35.69      ]\n",
            " [ 73.1544228  215.08167641  31.78      ]\n",
            " ...\n",
            " [ 76.09349925 209.23890778  26.19      ]\n",
            " [ 75.82285669 172.21799965  32.01      ]\n",
            " [ 73.99484223 203.14402711  28.92      ]]\n"
          ]
        }
      ]
    },
    {
      "cell_type": "code",
      "source": [
        "# Create numpy array: conversion\n",
        "conversion = np.array([0.0254,0.453592,1])"
      ],
      "metadata": {
        "id": "UEqcFUhsbSpM"
      },
      "execution_count": null,
      "outputs": []
    },
    {
      "cell_type": "code",
      "source": [
        "\n",
        "# Print out product of np_baseball and conversion\n",
        "print(np_baseball * conversion)\n"
      ],
      "metadata": {
        "colab": {
          "base_uri": "https://localhost:8080/"
        },
        "id": "NZp7W8CkbWOB",
        "outputId": "b8ab446b-9e4d-49a9-b193-d8c3a35098bf"
      },
      "execution_count": null,
      "outputs": [
        {
          "output_type": "stream",
          "name": "stdout",
          "text": [
            "[[ 1.8796  81.64656 22.99   ]\n",
            " [ 1.8796  97.52228 34.69   ]\n",
            " [ 1.8288  95.25432 30.78   ]\n",
            " ...\n",
            " [ 1.905   92.98636 25.19   ]\n",
            " [ 1.905   86.18248 31.01   ]\n",
            " [ 1.8542  88.45044 27.92   ]]\n"
          ]
        }
      ]
    },
    {
      "cell_type": "markdown",
      "source": [
        "# Average versus median"
      ],
      "metadata": {
        "id": "EtwjauX8buaD"
      }
    },
    {
      "cell_type": "markdown",
      "source": [
        "Instructions\n",
        "\n",
        "*   Create numpy array **np_height_in** that is equal to first column of **np_baseball**.\n",
        "*   Print out the mean of **np_height_in**.\n",
        "*   Print out the median of **np_height_in**."
      ],
      "metadata": {
        "id": "BMgiiZLXpxuH"
      }
    },
    {
      "cell_type": "code",
      "source": [
        "# Import numpy\n",
        "import numpy as np\n",
        "\n",
        "# Create np_height_in from np_baseball\n",
        "np_height_in = np_baseball[:,0]\n",
        "print(np_height_in)"
      ],
      "metadata": {
        "colab": {
          "base_uri": "https://localhost:8080/"
        },
        "id": "trIL4bNQeqpf",
        "outputId": "70e752a9-84b7-4951-d51b-25954718849d"
      },
      "execution_count": null,
      "outputs": [
        {
          "output_type": "stream",
          "name": "stdout",
          "text": [
            "[74. 74. 72. ... 75. 75. 73.]\n"
          ]
        }
      ]
    },
    {
      "cell_type": "code",
      "source": [
        "# Print out the mean of np_height_in\n",
        "print(np.mean(np_height_in))\n"
      ],
      "metadata": {
        "colab": {
          "base_uri": "https://localhost:8080/"
        },
        "id": "ue_htcTjeuAQ",
        "outputId": "9611f0b9-72b1-4efd-cf67-21ac132ee32e"
      },
      "execution_count": null,
      "outputs": [
        {
          "output_type": "stream",
          "name": "stdout",
          "text": [
            "73.6896551724138\n"
          ]
        }
      ]
    },
    {
      "cell_type": "code",
      "source": [
        "# Print out the median of np_height_in\n",
        "print(np.median(np_height_in))\n"
      ],
      "metadata": {
        "colab": {
          "base_uri": "https://localhost:8080/"
        },
        "id": "2dqrgEZpevXi",
        "outputId": "c391c61a-6aec-4af8-e21c-1bc7160ed343"
      },
      "execution_count": null,
      "outputs": [
        {
          "output_type": "stream",
          "name": "stdout",
          "text": [
            "74.0\n"
          ]
        }
      ]
    },
    {
      "cell_type": "markdown",
      "source": [
        "# Explore the baseball data"
      ],
      "metadata": {
        "id": "aV_8KA-Wb1PV"
      }
    },
    {
      "cell_type": "markdown",
      "source": [
        "Instructions\n",
        "\n",
        "*   The code to print out the mean height is already included. Complete the code for the median height\n",
        "*   Use **np.std()** on the first column of **np_baseball** to calculate stddev.\n",
        "*   Do big players tend to be heavier? Use **np.corrcoef()** to store the correlation between the first and second column of np_baseball in **corr**"
      ],
      "metadata": {
        "id": "25D-GG0EuADO"
      }
    },
    {
      "cell_type": "code",
      "source": [
        "# Import numpy\n",
        "import numpy as np\n",
        "\n",
        "# Print mean height (first column)\n",
        "avg = np.mean(np_baseball[:,0])\n",
        "print(\"Average: \" + str(avg))\n"
      ],
      "metadata": {
        "colab": {
          "base_uri": "https://localhost:8080/"
        },
        "id": "alAgKx7Ie_oq",
        "outputId": "04fe9e9b-ee3b-47df-f945-851c3d0c5ffa"
      },
      "execution_count": null,
      "outputs": [
        {
          "output_type": "stream",
          "name": "stdout",
          "text": [
            "Average: 73.6896551724138\n"
          ]
        }
      ]
    },
    {
      "cell_type": "code",
      "source": [
        "# Print median height. Replace 'None'\n",
        "med = np.median(np_baseball[:,0])\n",
        "print(\"Median: \" + str(med))"
      ],
      "metadata": {
        "colab": {
          "base_uri": "https://localhost:8080/"
        },
        "id": "le-7WnESfBGI",
        "outputId": "4c60955c-e2cf-4aba-cd07-b78372435616"
      },
      "execution_count": null,
      "outputs": [
        {
          "output_type": "stream",
          "name": "stdout",
          "text": [
            "Median: 74.0\n"
          ]
        }
      ]
    },
    {
      "cell_type": "code",
      "source": [
        "# Print out the standard deviation on height. Replace 'None'\n",
        "stddev = np.std(np_baseball[:,0])\n",
        "print(\"Standard Deviation: \" + str(stddev))"
      ],
      "metadata": {
        "colab": {
          "base_uri": "https://localhost:8080/"
        },
        "id": "zKIoRuR8fGrJ",
        "outputId": "b3a130c7-1ecb-4bba-e78e-de03c337ddbd"
      },
      "execution_count": null,
      "outputs": [
        {
          "output_type": "stream",
          "name": "stdout",
          "text": [
            "Standard Deviation: 2.312791881046546\n"
          ]
        }
      ]
    },
    {
      "cell_type": "code",
      "source": [
        "# Print out correlation between first and second column. Replace 'None'\n",
        "corr = np.corrcoef(np_baseball[:,0], np_baseball[:,1])\n",
        "print(\"Correlation: \" + str(corr))\n"
      ],
      "metadata": {
        "colab": {
          "base_uri": "https://localhost:8080/"
        },
        "id": "iqDH__A_fIuG",
        "outputId": "19da0c15-42ae-4dda-8060-e5e289e596be"
      },
      "execution_count": null,
      "outputs": [
        {
          "output_type": "stream",
          "name": "stdout",
          "text": [
            "Correlation: [[1.         0.53153932]\n",
            " [0.53153932 1.        ]]\n"
          ]
        }
      ]
    }
  ]
}