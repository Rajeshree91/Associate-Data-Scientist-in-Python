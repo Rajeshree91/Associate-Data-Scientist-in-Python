{
  "nbformat": 4,
  "nbformat_minor": 0,
  "metadata": {
    "colab": {
      "provenance": []
    },
    "kernelspec": {
      "name": "python3",
      "display_name": "Python 3"
    },
    "language_info": {
      "name": "python"
    }
  },
  "cells": [
    {
      "cell_type": "markdown",
      "source": [
        "# 1.1 Python Basics"
      ],
      "metadata": {
        "id": "_5tzUsRjgYOH"
      }
    },
    {
      "cell_type": "markdown",
      "source": [
        "# Your First Python Code"
      ],
      "metadata": {
        "id": "8Rtteu3G4hUU"
      }
    },
    {
      "cell_type": "markdown",
      "source": [
        "Instructions\n",
        "\n",
        "*   Hit the run code button to see the output of print(5 / 8)\n",
        "\n",
        "\n"
      ],
      "metadata": {
        "id": "jG00ViwE4yGf"
      }
    },
    {
      "cell_type": "code",
      "source": [
        "# Example, do not modify!\n",
        "print(5 / 8)\n",
        "\n",
        "# Print the sum of 7 and 10\n",
        "print (7 + 10)\n"
      ],
      "metadata": {
        "colab": {
          "base_uri": "https://localhost:8080/"
        },
        "id": "WMZV0CS646N7",
        "outputId": "692972e8-2a1c-4fc1-ff1e-c153b23e517f"
      },
      "execution_count": 2,
      "outputs": [
        {
          "output_type": "stream",
          "name": "stdout",
          "text": [
            "0.625\n",
            "17\n"
          ]
        }
      ]
    },
    {
      "cell_type": "code",
      "source": [],
      "metadata": {
        "id": "K56dhXoJ5D7-"
      },
      "execution_count": null,
      "outputs": []
    },
    {
      "cell_type": "markdown",
      "source": [
        "# Python as a calculator"
      ],
      "metadata": {
        "id": "J9KfXtki-e1j"
      }
    },
    {
      "cell_type": "markdown",
      "source": [
        "Instructions\n",
        "\n",
        "\n",
        "*   Print the result of subtracting **5** from **5** under # Subtraction using print()\n",
        "*   Print the result of multiplying **3** by **5** under # Multiplication\n",
        "\n"
      ],
      "metadata": {
        "id": "gSbpsQTU-7Ht"
      }
    },
    {
      "cell_type": "code",
      "source": [
        "# Addition, subtraction\n",
        "print(5 + 5)\n",
        "print(5 - 5)\n",
        "\n",
        "# Multiplication, division, modulo, and exponentiation\n",
        "print(3 * 5)\n",
        "print(10 / 2)\n",
        "print(18 % 7)\n",
        "print(4 ** 2)\n",
        "\n",
        "# How much is your $100 worth after 7 years?\n",
        "print(100* (1.1**7))\n",
        "\n",
        "print(2 ** 5)\n"
      ],
      "metadata": {
        "colab": {
          "base_uri": "https://localhost:8080/"
        },
        "id": "-K3v1LeZ_ZnA",
        "outputId": "91180e54-dc65-489f-bce6-61e889f09e8f"
      },
      "execution_count": 3,
      "outputs": [
        {
          "output_type": "stream",
          "name": "stdout",
          "text": [
            "10\n",
            "0\n",
            "15\n",
            "5.0\n",
            "4\n",
            "16\n",
            "194.87171000000012\n",
            "32\n"
          ]
        }
      ]
    },
    {
      "cell_type": "markdown",
      "source": [
        "# Variable Assignment"
      ],
      "metadata": {
        "id": "E0MxIyZREueC"
      }
    },
    {
      "cell_type": "markdown",
      "source": [
        "Instruction\n",
        "\n",
        "*   Create a variable savings with the value of 100.\n",
        "*   Check out this variable by typing print(savings) in the script\n",
        "\n",
        "\n"
      ],
      "metadata": {
        "id": "Mk8IhVaVEzNW"
      }
    },
    {
      "cell_type": "code",
      "source": [
        "# Create a variable savings\n",
        "savings = 100\n",
        "\n",
        "# Print out savings\n",
        "print(savings)\n"
      ],
      "metadata": {
        "colab": {
          "base_uri": "https://localhost:8080/"
        },
        "id": "C_trinyOcTw8",
        "outputId": "90593863-b930-4485-c3b5-c9d50bdd48ee"
      },
      "execution_count": 4,
      "outputs": [
        {
          "output_type": "stream",
          "name": "stdout",
          "text": [
            "100\n"
          ]
        }
      ]
    },
    {
      "cell_type": "markdown",
      "source": [
        "# Calculations with variables"
      ],
      "metadata": {
        "id": "8VWlC88kcxpV"
      }
    },
    {
      "cell_type": "markdown",
      "source": [
        "Instruction\n",
        "\n",
        "*  Create a variable monthly_savings, equal to 10 and num_months, equal to 4\n",
        "*  Multiply monthly_savings by num_months and assign it to new_savings\n",
        "* Print the value of new_savings"
      ],
      "metadata": {
        "id": "V62Q5AxGc7i0"
      }
    },
    {
      "cell_type": "code",
      "source": [
        "# Create a variable savings\n",
        "monthly_savings = 10\n",
        "\n",
        "# Create a variable growth_multiplier\n",
        "num_months = 4\n",
        "\n",
        "# Calculate result\n",
        "new_savings = monthly_savings * num_months\n",
        "\n",
        "# Print out result\n",
        "print(new_savings)\n"
      ],
      "metadata": {
        "colab": {
          "base_uri": "https://localhost:8080/"
        },
        "id": "jjWhd5rJdaoY",
        "outputId": "a2c75af9-65d6-4f2d-a98f-892d8e4c6466"
      },
      "execution_count": 5,
      "outputs": [
        {
          "output_type": "stream",
          "name": "stdout",
          "text": [
            "40\n"
          ]
        }
      ]
    },
    {
      "cell_type": "markdown",
      "source": [
        "# Other variable types"
      ],
      "metadata": {
        "id": "v19mrN95eNDK"
      }
    },
    {
      "cell_type": "markdown",
      "source": [
        "Instructions\n",
        "\n",
        "* Create a new float, half, with the value 0.5.\n",
        "* Create a new string, intro, with the value \"Hello! How are you?\".\n",
        "* Create a new boolean, is_good, with the value True\n",
        "\n"
      ],
      "metadata": {
        "id": "Z7LGRdsieREr"
      }
    },
    {
      "cell_type": "code",
      "source": [
        "# Create a variable desc\n",
        "half = 0.5\n",
        "intro = \"Hello! How are you?\"\n",
        "is_good = True\n"
      ],
      "metadata": {
        "id": "XC4wdeknfn79"
      },
      "execution_count": 7,
      "outputs": []
    },
    {
      "cell_type": "markdown",
      "source": [
        "# Operations with other types"
      ],
      "metadata": {
        "id": "ezT31_g3gN6X"
      }
    },
    {
      "cell_type": "markdown",
      "source": [
        "Instructions\n",
        "* Add savings and **new_savings** and assign it to **total_savings**.\n",
        "* Use **type()** to print the resulting type of total_savings.\n",
        "\n",
        "\n",
        "* Calculate the sum of intro and intro and assign the result to **doubleintro**.\n",
        "* Print out doubleintro. Did you expect this?"
      ],
      "metadata": {
        "id": "l4Xbk66JhIB6"
      }
    },
    {
      "cell_type": "code",
      "source": [
        "savings = 100\n",
        "new_savings = 40\n",
        "\n",
        "# Calculate total_savings using savings and new_savings\n",
        "total_savings = savings + new_savings\n",
        "print(total_savings)\n",
        "\n",
        "# Print the type of total_savings\n",
        "print(type(total_savings))"
      ],
      "metadata": {
        "colab": {
          "base_uri": "https://localhost:8080/"
        },
        "id": "XlLceG31j7fo",
        "outputId": "124b20fc-20f1-439b-8bca-3595ca8393fe"
      },
      "execution_count": 8,
      "outputs": [
        {
          "output_type": "stream",
          "name": "stdout",
          "text": [
            "140\n",
            "<class 'int'>\n"
          ]
        }
      ]
    },
    {
      "cell_type": "code",
      "source": [
        "intro = \"Hello! How are you?\"\n",
        "\n",
        "# Assign sum of intro and intro to doubleintro\n",
        "doubleintro = intro + intro\n",
        "\n",
        "# Print out doubleintro\n",
        "print(doubleintro )"
      ],
      "metadata": {
        "colab": {
          "base_uri": "https://localhost:8080/"
        },
        "id": "mWjjP_kwkgtL",
        "outputId": "43945c1f-8f23-418f-cb1c-8e17535e7ece"
      },
      "execution_count": 9,
      "outputs": [
        {
          "output_type": "stream",
          "name": "stdout",
          "text": [
            "Hello! How are you?Hello! How are you?\n"
          ]
        }
      ]
    },
    {
      "cell_type": "markdown",
      "source": [
        "# 1.2 Python Lists"
      ],
      "metadata": {
        "id": "hooSGeFXwius"
      }
    },
    {
      "cell_type": "markdown",
      "source": [
        "# Create a List"
      ],
      "metadata": {
        "id": "5AvbFQ5dwrDw"
      }
    },
    {
      "cell_type": "markdown",
      "source": [
        "Instructions                                                         \n",
        "* Create a list, areas, that contains the area of the hallway (hall), kitchen (kit), living room (liv), bedroom (bed) and bathroom (bath), in this order. Use the predefined variables.\n",
        "* Print areas with the print() function"
      ],
      "metadata": {
        "id": "3KvAKuOFw0Bd"
      }
    },
    {
      "cell_type": "code",
      "source": [
        "# area variables (in square meters)\n",
        "hall = 11.25\n",
        "kit = 18.0\n",
        "liv = 20.0\n",
        "bed = 10.75\n",
        "bath = 9.50\n",
        "\n",
        "# Create list areas\n",
        "areas = [hall,kit,liv,bed,bath]\n",
        "\n",
        "# Print areas\n",
        "print(areas)\n"
      ],
      "metadata": {
        "colab": {
          "base_uri": "https://localhost:8080/"
        },
        "id": "z6NLrCMaxtOP",
        "outputId": "712d6818-eb36-4572-cf0a-be6fcf3a0f6f"
      },
      "execution_count": 11,
      "outputs": [
        {
          "output_type": "stream",
          "name": "stdout",
          "text": [
            "[11.25, 18.0, 20.0, 10.75, 9.5]\n"
          ]
        }
      ]
    },
    {
      "cell_type": "markdown",
      "source": [
        "# Create lists with different types"
      ],
      "metadata": {
        "id": "iTeqelTbx5gv"
      }
    },
    {
      "cell_type": "markdown",
      "source": [
        "Instructions                                                              \n",
        "* Finish the code that creates the areas list. Build the list so that the list first contains the name of each room as a string and then its area.\n",
        "\n",
        "* In other words, add the strings \"***hallway***\", \"***kitchen***\" and \"***bedroom***\" at the appropriate locations.                                                \n",
        "* Print areas again; is the printout more informative this time?"
      ],
      "metadata": {
        "id": "fKDCk_nOHXFo"
      }
    },
    {
      "cell_type": "code",
      "source": [
        "# area variables (in square meters)\n",
        "hall = 11.25\n",
        "kit = 18.0\n",
        "liv = 20.0\n",
        "bed = 10.75\n",
        "bath = 9.50\n",
        "\n",
        "# Adapt list areas\n",
        "areas = [\"hallway\",hall,\"kitchen\", kit, \"living room\", liv,\"bedroom\", bed, \"bathroom\", bath]\n",
        "\n",
        "# Print areas\n",
        "print(areas)\n"
      ],
      "metadata": {
        "colab": {
          "base_uri": "https://localhost:8080/"
        },
        "id": "zaxY2bH4HiqK",
        "outputId": "5780a296-c42c-4e83-f532-2891e4c9f1e4"
      },
      "execution_count": 1,
      "outputs": [
        {
          "output_type": "stream",
          "name": "stdout",
          "text": [
            "['hallway', 11.25, 'kitchen', 18.0, 'living room', 20.0, 'bedroom', 10.75, 'bathroom', 9.5]\n"
          ]
        }
      ]
    },
    {
      "cell_type": "markdown",
      "source": [
        "# List of lists"
      ],
      "metadata": {
        "id": "lomNzvQudPsy"
      }
    },
    {
      "cell_type": "markdown",
      "source": [
        "Instructions\n",
        "\n",
        "* Finish the list of lists so that it also contains the bedroom and bathroom data. Make sure you enter these in order!\n",
        "*Print out house; does this way of structuring your data make more sense?"
      ],
      "metadata": {
        "id": "e9OEP84EdR4P"
      }
    },
    {
      "cell_type": "code",
      "source": [
        "# area variables (in square meters)\n",
        "hall = 11.25\n",
        "kit = 18.0\n",
        "liv = 20.0\n",
        "bed = 10.75\n",
        "bath = 9.50\n",
        "\n",
        "# house information as list of lists\n",
        "house = [[\"hallway\", hall],\n",
        "         [\"kitchen\", kit],\n",
        "         [\"living room\", liv],\n",
        "         [\"bedroom\", bed],\n",
        "         [\"bathroom\", bath]\n",
        "         ]\n",
        "\n",
        "# Print out house\n",
        "print(house)\n",
        "\n",
        "# Print out the type of house\n",
        "print(type(house))"
      ],
      "metadata": {
        "colab": {
          "base_uri": "https://localhost:8080/"
        },
        "id": "XWEPCI0VdcZH",
        "outputId": "f122fd3e-a796-49ff-a742-d8673c5777e0"
      },
      "execution_count": 1,
      "outputs": [
        {
          "output_type": "stream",
          "name": "stdout",
          "text": [
            "[['hallway', 11.25], ['kitchen', 18.0], ['living room', 20.0], ['bedroom', 10.75], ['bathroom', 9.5]]\n",
            "<class 'list'>\n"
          ]
        }
      ]
    },
    {
      "cell_type": "markdown",
      "source": [
        "# Subset and conquer"
      ],
      "metadata": {
        "id": "Fo-yyCZtfRUN"
      }
    },
    {
      "cell_type": "markdown",
      "source": [
        "Instructions\n",
        "\n",
        "* Print out the second element from the areas list (it has the value 11.25).\n",
        "* Subset and print out the last element of areas, being 9.50. Using a negative index makes sense here!\n",
        "* Select the number representing the area of the living room (20.0) and print it out."
      ],
      "metadata": {
        "id": "Tu4dvgJ8fTK6"
      }
    },
    {
      "cell_type": "code",
      "source": [
        "# Create the areas list\n",
        "areas = [\"hallway\", 11.25, \"kitchen\", 18.0, \"living room\", 20.0, \"bedroom\", 10.75, \"bathroom\", 9.50]\n",
        "\n",
        "# Print out second element from areas\n",
        "print(areas[1])"
      ],
      "metadata": {
        "colab": {
          "base_uri": "https://localhost:8080/"
        },
        "id": "ha3RC3uQfcf-",
        "outputId": "290d72d9-042f-49c6-c46c-84f8ad4c4d9e"
      },
      "execution_count": 2,
      "outputs": [
        {
          "output_type": "stream",
          "name": "stdout",
          "text": [
            "11.25\n"
          ]
        }
      ]
    },
    {
      "cell_type": "code",
      "source": [
        "# Print out last element from areas\n",
        "print(areas[-1])"
      ],
      "metadata": {
        "colab": {
          "base_uri": "https://localhost:8080/"
        },
        "id": "2_kf20EufnCC",
        "outputId": "193e7460-c2ae-4b49-8415-318b38aa64b8"
      },
      "execution_count": 3,
      "outputs": [
        {
          "output_type": "stream",
          "name": "stdout",
          "text": [
            "9.5\n"
          ]
        }
      ]
    },
    {
      "cell_type": "code",
      "source": [
        "# Print out the area of the living room\n",
        "print(areas[5])"
      ],
      "metadata": {
        "colab": {
          "base_uri": "https://localhost:8080/"
        },
        "id": "uYhn6OTwfokg",
        "outputId": "f3b63804-7ac1-4b19-a9f4-1ed38c2c674d"
      },
      "execution_count": 4,
      "outputs": [
        {
          "output_type": "stream",
          "name": "stdout",
          "text": [
            "20.0\n"
          ]
        }
      ]
    },
    {
      "cell_type": "markdown",
      "source": [],
      "metadata": {
        "id": "E_37FhM-hx1-"
      }
    },
    {
      "cell_type": "markdown",
      "source": [
        "# Slicing and dicing"
      ],
      "metadata": {
        "id": "EiOjzfmuhNeu"
      }
    },
    {
      "cell_type": "markdown",
      "source": [
        "Instructions                                                                                                                                                                                                                  \n",
        "\n",
        "*   Use slicing to create a list, downstairs, that contains the first 6 elements of areas.   \n",
        "                                                       \n",
        "* Create upstairs, as the last 4 elements of areas. This time, simplify the slicing by omitting the end index.                                                                      \n",
        "* Print both downstairs and upstairs using print()."
      ],
      "metadata": {
        "id": "7s6SaLHvhPZo"
      }
    },
    {
      "cell_type": "code",
      "source": [
        "# Create the areas list\n",
        "areas = [\"hallway\", 11.25, \"kitchen\", 18.0, \"living room\", 20.0, \"bedroom\", 10.75, \"bathroom\", 9.50]\n",
        "\n",
        "# Use slicing to create downstairs\n",
        "downstairs = areas[0:6]\n",
        "\n",
        "# Use slicing to create upstairs\n",
        "upstairs = areas[6:10]\n",
        "\n",
        "# Print out downstairs and upstairs\n",
        "print(downstairs)\n",
        "print (upstairs)\n"
      ],
      "metadata": {
        "colab": {
          "base_uri": "https://localhost:8080/"
        },
        "id": "fzoq7QBXhRIs",
        "outputId": "f1f6ae2b-72d1-48a9-ccc8-07b67f8fd7d2"
      },
      "execution_count": 5,
      "outputs": [
        {
          "output_type": "stream",
          "name": "stdout",
          "text": [
            "['hallway', 11.25, 'kitchen', 18.0, 'living room', 20.0]\n",
            "['bedroom', 10.75, 'bathroom', 9.5]\n"
          ]
        }
      ]
    },
    {
      "cell_type": "markdown",
      "source": [
        "# Subsetting lists of lists\n"
      ],
      "metadata": {
        "id": "j6H66X1Z4sR4"
      }
    },
    {
      "cell_type": "markdown",
      "source": [
        "Instructions\n",
        "\n",
        "\n",
        "* Subset the house list to get the float 9.5"
      ],
      "metadata": {
        "id": "CihfkLG-4zFa"
      }
    },
    {
      "cell_type": "code",
      "source": [
        "house = [[\"hallway\", 11.25],\n",
        "         [\"kitchen\", 18.0],\n",
        "         [\"living room\", 20.0],\n",
        "         [\"bedroom\", 10.75],\n",
        "         [\"bathroom\", 9.50]]\n",
        "\n",
        "# Subset the house list\n",
        "house[-1][1]"
      ],
      "metadata": {
        "colab": {
          "base_uri": "https://localhost:8080/"
        },
        "id": "UgQYOjal4899",
        "outputId": "fe33fed6-b5a5-4ca9-ff91-d23a55607acf"
      },
      "execution_count": 1,
      "outputs": [
        {
          "output_type": "execute_result",
          "data": {
            "text/plain": [
              "9.5"
            ]
          },
          "metadata": {},
          "execution_count": 1
        }
      ]
    },
    {
      "cell_type": "markdown",
      "source": [
        "# Replace list elements"
      ],
      "metadata": {
        "id": "FT2GYa619mhe"
      }
    },
    {
      "cell_type": "markdown",
      "source": [],
      "metadata": {
        "id": "BQeYCY9H95uQ"
      }
    },
    {
      "cell_type": "markdown",
      "source": [
        "Instructions                                                                                                                                                                                                         \n",
        "\n",
        "*   Update the area of the bathroom to be **10.50** square meters instead of **9.50** using negative indexing.\n",
        "\n",
        "\n",
        "* Make the areas list more trendy! Change \"**living room**\" to \"**chill zone**\". Don't use negative indexing this time."
      ],
      "metadata": {
        "id": "t9mQFw9L9oEe"
      }
    },
    {
      "cell_type": "code",
      "source": [
        "# Create the areas list\n",
        "areas = [\"hallway\", 11.25, \"kitchen\", 18.0, \"living room\", 20.0, \"bedroom\", 10.75, \"bathroom\", 9.50]\n",
        "\n",
        "# Correct the bathroom area\n",
        "areas[-1] = 10.50\n",
        "print(areas)"
      ],
      "metadata": {
        "colab": {
          "base_uri": "https://localhost:8080/"
        },
        "id": "JA5u4MYc93oU",
        "outputId": "44ac44e4-9ea5-4b80-8877-b9f196ad0afc"
      },
      "execution_count": 2,
      "outputs": [
        {
          "output_type": "stream",
          "name": "stdout",
          "text": [
            "['hallway', 11.25, 'kitchen', 18.0, 'living room', 20.0, 'bedroom', 10.75, 'bathroom', 10.5]\n"
          ]
        }
      ]
    },
    {
      "cell_type": "code",
      "source": [
        "# Change \"living room\" to \"chill zone\"\n",
        "areas[4] = \"chill zone\"\n",
        "print(areas)"
      ],
      "metadata": {
        "colab": {
          "base_uri": "https://localhost:8080/"
        },
        "id": "lm_Y9Vye-aik",
        "outputId": "ce89319d-661c-4c82-f3c1-0d0a03bd5a6c"
      },
      "execution_count": 3,
      "outputs": [
        {
          "output_type": "stream",
          "name": "stdout",
          "text": [
            "['hallway', 11.25, 'kitchen', 18.0, 'chill zone', 20.0, 'bedroom', 10.75, 'bathroom', 10.5]\n"
          ]
        }
      ]
    },
    {
      "cell_type": "markdown",
      "source": [
        "# Extend a list"
      ],
      "metadata": {
        "id": "W65Ogf9e-ivH"
      }
    },
    {
      "cell_type": "markdown",
      "source": [
        "Instructions\n",
        "\n",
        "*   Use the + operator to paste the list **[\"poolhouse\", 24.5]** to the end of the **areas** list. Store the resulting list as ***areas_1***\n",
        "\n",
        "\n",
        "*   Further extend ***areas_1*** by adding data on your **garage**. Add the string \"garage\" and float ***15.45***. Name the resulting list ***areas_2***\n",
        "\n",
        "\n",
        "\n"
      ],
      "metadata": {
        "id": "l8pD8U76-lX0"
      }
    },
    {
      "cell_type": "code",
      "source": [
        "# Create the areas list and make some changes\n",
        "areas = [\"hallway\", 11.25, \"kitchen\", 18.0, \"chill zone\", 20.0,\n",
        "         \"bedroom\", 10.75, \"bathroom\", 10.50]\n",
        "\n",
        "# Add poolhouse data to areas, new list is areas_1\n",
        "areas_1 = areas + [\"poolhouse\", 24.5]"
      ],
      "metadata": {
        "id": "CF3nlKkN_eb8"
      },
      "execution_count": 4,
      "outputs": []
    },
    {
      "cell_type": "code",
      "source": [
        "# Add garage data to areas_1, new list is areas_2\n",
        "areas_2 = areas_1 + [\"garage\",15.45]\n",
        "print(areas_2)"
      ],
      "metadata": {
        "colab": {
          "base_uri": "https://localhost:8080/"
        },
        "id": "Xdmy39uH_16V",
        "outputId": "e1951b08-9d81-4c7a-eb32-3ad14def8c1d"
      },
      "execution_count": 5,
      "outputs": [
        {
          "output_type": "stream",
          "name": "stdout",
          "text": [
            "['hallway', 11.25, 'kitchen', 18.0, 'chill zone', 20.0, 'bedroom', 10.75, 'bathroom', 10.5, 'poolhouse', 24.5, 'garage', 15.45]\n"
          ]
        }
      ]
    },
    {
      "cell_type": "markdown",
      "source": [
        "# Delete list elements"
      ],
      "metadata": {
        "id": "At3xtMbxADw-"
      }
    },
    {
      "cell_type": "markdown",
      "source": [
        "Instructions\n",
        "\n",
        "* Delete the string and float for the \"***poolhouse***\" from your areas list.\n",
        "* Print the updated ***areas*** list."
      ],
      "metadata": {
        "id": "-aaGyZHUhYl8"
      }
    },
    {
      "cell_type": "code",
      "source": [
        "areas = [\"hallway\", 11.25, \"kitchen\", 18.0,\n",
        "        \"chill zone\", 20.0, \"bedroom\", 10.75,\n",
        "         \"bathroom\", 10.50, \"poolhouse\", 24.5,\n",
        "         \"garage\", 15.45]\n",
        "\n",
        "# Delete the poolhouse items from the list\n",
        "del areas[10]\n",
        "del areas[10]\n",
        "\n",
        "# Print the updated list\n",
        "print(areas)\n"
      ],
      "metadata": {
        "colab": {
          "base_uri": "https://localhost:8080/"
        },
        "id": "ZXcstbCUhXK1",
        "outputId": "d25156dc-76ec-4966-c89b-2799634f1808"
      },
      "execution_count": 1,
      "outputs": [
        {
          "output_type": "stream",
          "name": "stdout",
          "text": [
            "['hallway', 11.25, 'kitchen', 18.0, 'chill zone', 20.0, 'bedroom', 10.75, 'bathroom', 10.5, 'garage', 15.45]\n"
          ]
        }
      ]
    },
    {
      "cell_type": "markdown",
      "source": [
        "# Inner workings of lists"
      ],
      "metadata": {
        "id": "bPQ5S4B11GsZ"
      }
    },
    {
      "cell_type": "markdown",
      "source": [
        "Instructions\n",
        "\n",
        "\n",
        "\n",
        "*   Change the second command, that creates the variable **areas_copy**, such that **areas_copy** is an explicit copy of areas.                     \n",
        "* After your edit, changes made to **areas_copy** shouldn't affect areas\n",
        " * Submit the answer to check this\n",
        "   \n",
        "\n",
        "\n",
        "\n"
      ],
      "metadata": {
        "id": "Otj7mQ5S1IZi"
      }
    },
    {
      "cell_type": "code",
      "source": [
        "# Create list areas\n",
        "areas = [11.25, 18.0, 20.0, 10.75, 9.50]\n",
        "\n",
        "# Create areas_copy\n",
        "areas_copy = list(areas)\n",
        "\n",
        "# Change areas_copy\n",
        "areas_copy[0] = 5.0\n",
        "\n",
        "# Print areas\n",
        "print(areas)\n",
        "\n",
        "\n"
      ],
      "metadata": {
        "colab": {
          "base_uri": "https://localhost:8080/"
        },
        "id": "lCVnh9O23Lun",
        "outputId": "193f7fcb-0180-4beb-db9e-d96cc6ae5e12"
      },
      "execution_count": 2,
      "outputs": [
        {
          "output_type": "stream",
          "name": "stdout",
          "text": [
            "[11.25, 18.0, 20.0, 10.75, 9.5]\n"
          ]
        }
      ]
    },
    {
      "cell_type": "markdown",
      "source": [
        "# 1.3 Function and Packages"
      ],
      "metadata": {
        "id": "EflxfQlM5RMx"
      }
    },
    {
      "cell_type": "markdown",
      "source": [
        "# Familiar functions\n"
      ],
      "metadata": {
        "id": "ftMuFY0x5Vnf"
      }
    },
    {
      "cell_type": "markdown",
      "source": [
        "Instructions\n",
        "\n",
        "* Use ***print()*** in combination with ***type()*** to print out the type of var1.\n",
        "* Use len() to get the length of the list **var1**. Wrap it in a **print()** call to directly print it out.\n",
        "* Use **int()** to convert **var2** to an integer. Store the output as out2"
      ],
      "metadata": {
        "id": "4ajZilVc_Kgx"
      }
    },
    {
      "cell_type": "code",
      "source": [
        "# Create variables var1 and var2\n",
        "var1 = [1, 2, 3, 4]\n",
        "var2 = True\n",
        "\n",
        "# Print out type of var1\n",
        "print(type(var1))"
      ],
      "metadata": {
        "colab": {
          "base_uri": "https://localhost:8080/"
        },
        "id": "EtEWY2dh9amM",
        "outputId": "bc67edc5-9673-421f-bb0d-9e78a44f2dcf"
      },
      "execution_count": 3,
      "outputs": [
        {
          "output_type": "stream",
          "name": "stdout",
          "text": [
            "<class 'list'>\n"
          ]
        }
      ]
    },
    {
      "cell_type": "code",
      "source": [
        "# Print out length of var1\n",
        "print(len(var1))"
      ],
      "metadata": {
        "colab": {
          "base_uri": "https://localhost:8080/"
        },
        "id": "gUcDo8E99pFK",
        "outputId": "cf46fa94-1e24-4a9e-8cbc-1ada9e8a42c7"
      },
      "execution_count": 4,
      "outputs": [
        {
          "output_type": "stream",
          "name": "stdout",
          "text": [
            "4\n"
          ]
        }
      ]
    },
    {
      "cell_type": "code",
      "source": [
        "# Convert var2 to an integer: out2\n",
        "out2 = int(var2)\n",
        "print(out2)\n"
      ],
      "metadata": {
        "colab": {
          "base_uri": "https://localhost:8080/"
        },
        "id": "5soxmSd79sjx",
        "outputId": "38e6479e-24fd-4d14-ae47-f4ebb45a32ce"
      },
      "execution_count": 5,
      "outputs": [
        {
          "output_type": "stream",
          "name": "stdout",
          "text": [
            "1\n"
          ]
        }
      ]
    },
    {
      "cell_type": "markdown",
      "source": [
        "# Multiple Arguments"
      ],
      "metadata": {
        "id": "gmFAzJnC6SaI"
      }
    },
    {
      "cell_type": "markdown",
      "source": [
        "# Instructios\n",
        "\n",
        "\n",
        "*   Use **+** to merge the contents of first and second into a new list: ***full***\n",
        "* Call **sorted()** and on full and specify the reverse argument to be *True*. Save the sorted list as **full_sorted**\n",
        "*   Finish off by printing out **full_sorted**\n",
        "\n",
        "\n",
        "\n"
      ],
      "metadata": {
        "id": "-AZL-oYXAcM8"
      }
    },
    {
      "cell_type": "code",
      "source": [
        "# Create lists first and second\n",
        "first = [11.25, 18.0, 20.0]\n",
        "second = [10.75, 9.50]\n",
        "\n",
        "# Paste together first and second: full\n",
        "full = first + second\n",
        "print(full)"
      ],
      "metadata": {
        "colab": {
          "base_uri": "https://localhost:8080/"
        },
        "id": "P1WEVDN56axP",
        "outputId": "3b9f7cb6-3ac0-43d2-e7e5-07d105cd8598"
      },
      "execution_count": 6,
      "outputs": [
        {
          "output_type": "stream",
          "name": "stdout",
          "text": [
            "[11.25, 18.0, 20.0, 10.75, 9.5]\n"
          ]
        }
      ]
    },
    {
      "cell_type": "code",
      "source": [
        "# Sort full in ascending order: sorted_asc\n",
        "sorted_asc = sorted(full)\n",
        "print(sorted_asc)"
      ],
      "metadata": {
        "colab": {
          "base_uri": "https://localhost:8080/"
        },
        "id": "7U2A_w8cDw-F",
        "outputId": "028f96d0-6342-4843-8756-d072eec26558"
      },
      "execution_count": 9,
      "outputs": [
        {
          "output_type": "stream",
          "name": "stdout",
          "text": [
            "[9.5, 10.75, 11.25, 18.0, 20.0]\n"
          ]
        }
      ]
    },
    {
      "cell_type": "code",
      "source": [
        "# Sort full in descending order: full_sorted\n",
        "full_sorted = sorted(full,reverse = True)\n",
        "\n",
        "# Print out full_sorted\n",
        "print(full_sorted)"
      ],
      "metadata": {
        "colab": {
          "base_uri": "https://localhost:8080/"
        },
        "id": "95_6Oq4BAaau",
        "outputId": "68974051-1b13-47cf-ec3c-41cc5263c2ec"
      },
      "execution_count": 10,
      "outputs": [
        {
          "output_type": "stream",
          "name": "stdout",
          "text": [
            "[20.0, 18.0, 11.25, 10.75, 9.5]\n"
          ]
        }
      ]
    },
    {
      "cell_type": "markdown",
      "source": [
        "# String Methods"
      ],
      "metadata": {
        "id": "N_Qq-IoNFaQH"
      }
    },
    {
      "cell_type": "markdown",
      "source": [
        "Instructions\n",
        "\n",
        "*   Use the **.upper()** method on place and store the result in *place_up*.                                                                   \n",
        "* Use the syntax for calling methods that you learned in the previous video.\n",
        "* Print out place and place_up. Did both change?\n",
        "* Print out the number of o's on the variable place by calling **.count()** on place and passing the letter 'o' as an input to the method                                                                                                                                          \n",
        "*   We're talking about the variable place, not the word \"place\"!\n"
      ],
      "metadata": {
        "id": "vlER_qjDFyIg"
      }
    },
    {
      "cell_type": "code",
      "source": [
        "# string to experiment with: place\n",
        "place = \"poolhouse\"\n",
        "\n",
        "# Use upper() on place: place_up\n",
        "place_up = place.upper()"
      ],
      "metadata": {
        "id": "YDV4xRlBHSWe"
      },
      "execution_count": 11,
      "outputs": []
    },
    {
      "cell_type": "code",
      "source": [
        "# Print out place and place_up\n",
        "print(place)\n",
        "print(place_up)"
      ],
      "metadata": {
        "colab": {
          "base_uri": "https://localhost:8080/"
        },
        "id": "tLmxf-84H-uy",
        "outputId": "a2c60fd3-1b8f-469e-fbba-e30d01b564a1"
      },
      "execution_count": 12,
      "outputs": [
        {
          "output_type": "stream",
          "name": "stdout",
          "text": [
            "poolhouse\n",
            "POOLHOUSE\n"
          ]
        }
      ]
    },
    {
      "cell_type": "code",
      "source": [
        "# Print out the number of o's in place\n",
        "print(place.count('o'))\n"
      ],
      "metadata": {
        "colab": {
          "base_uri": "https://localhost:8080/"
        },
        "id": "AdoAz5B6IEed",
        "outputId": "06f76779-fa71-40fe-b9f3-a68f81e9ef2d"
      },
      "execution_count": 13,
      "outputs": [
        {
          "output_type": "stream",
          "name": "stdout",
          "text": [
            "3\n"
          ]
        }
      ]
    },
    {
      "cell_type": "markdown",
      "source": [
        "# List Methods"
      ],
      "metadata": {
        "id": "KylgUshRFZ99"
      }
    },
    {
      "cell_type": "markdown",
      "source": [
        "Strings are not the only Python types that have methods associated with them. Lists, floats, integers and booleans are also types that come packaged with a bunch of useful methods. In this exercise, you'll be experimenting with:\n",
        "\n",
        "* .index(): to get the index of the first element of a list that matches  its input and\n",
        "* .count() : to get the number of times an element appears in a      list.                                                                      \n",
        "You'll be working on the list with the area of different parts of a house: areas."
      ],
      "metadata": {
        "id": "NHcvIQ9SI6_O"
      }
    },
    {
      "cell_type": "markdown",
      "source": [
        "Instructions                                                                  \n",
        "\n",
        "*  Use the **.index()** method to get the index of the element in areas that is equal to **20.0**. Print out this index.\n",
        "*   Call **.count()** on areas to find out how many times **9.50** appears in the list. Again, simply print out this number\n",
        "\n"
      ],
      "metadata": {
        "id": "aUmMMMkeJfZ9"
      }
    },
    {
      "cell_type": "code",
      "source": [
        "# Create list areas\n",
        "areas = [11.25, 18.0, 20.0, 10.75, 9.50]\n",
        "\n",
        "# Print out the index of the element 20.0\n",
        "print(areas.index(20.0))"
      ],
      "metadata": {
        "colab": {
          "base_uri": "https://localhost:8080/"
        },
        "id": "AyjFBqKiJITc",
        "outputId": "c1af7599-c744-44d3-cbec-0c9d76c09d06"
      },
      "execution_count": 14,
      "outputs": [
        {
          "output_type": "stream",
          "name": "stdout",
          "text": [
            "2\n"
          ]
        }
      ]
    },
    {
      "cell_type": "code",
      "source": [
        "# Print out how often 9.50 appears in areas\n",
        "print(areas.count(9.50))\n",
        "\n"
      ],
      "metadata": {
        "colab": {
          "base_uri": "https://localhost:8080/"
        },
        "id": "60KRIDf5OZYD",
        "outputId": "a2d31d6e-dd67-4a54-dda3-51f2732be94e"
      },
      "execution_count": 15,
      "outputs": [
        {
          "output_type": "stream",
          "name": "stdout",
          "text": [
            "1\n"
          ]
        }
      ]
    },
    {
      "cell_type": "markdown",
      "source": [
        "# List Methods (2)"
      ],
      "metadata": {
        "id": "mW-kIIq5FhVJ"
      }
    },
    {
      "cell_type": "markdown",
      "source": [
        "Instructions\n",
        "\n",
        "*   Use **.append()** twice to add the size of the poolhouse and the garage again: **24.5** and **15.45**, respectively. Make sure to add them in this order.\n",
        "\n",
        "*   Print out **areas**\n",
        "\n",
        "*   Use the ***.reverse()*** method to reverse the order of the elements in areas.\n",
        "\n",
        "*   Print out **areas** once more\n",
        "\n",
        "\n",
        "\n"
      ],
      "metadata": {
        "id": "xFXnWaEmRABm"
      }
    },
    {
      "cell_type": "code",
      "source": [
        "# Create list areas\n",
        "areas = [11.25, 18.0, 20.0, 10.75, 9.50]\n",
        "\n",
        "# Use append twice to add poolhouse and garage size\n",
        "\n",
        "areas.append(24.5)\n",
        "areas.append(15.45)\n",
        "\n",
        "# Print out areas\n",
        "print(areas)"
      ],
      "metadata": {
        "colab": {
          "base_uri": "https://localhost:8080/"
        },
        "id": "G7w6VPMrRlPy",
        "outputId": "d7e354e5-b779-4a5b-ce43-30dac9432501"
      },
      "execution_count": 16,
      "outputs": [
        {
          "output_type": "stream",
          "name": "stdout",
          "text": [
            "[11.25, 18.0, 20.0, 10.75, 9.5, 24.5, 15.45]\n"
          ]
        }
      ]
    },
    {
      "cell_type": "code",
      "source": [
        "# Reverse the orders of the elements in areas\n",
        "areas.reverse()\n",
        "\n",
        "# Print out areas\n",
        "print(areas)\n",
        "\n"
      ],
      "metadata": {
        "colab": {
          "base_uri": "https://localhost:8080/"
        },
        "id": "7svO0lCDFkMZ",
        "outputId": "0efcec44-9c6f-45dc-efab-b3d8db637087"
      },
      "execution_count": 17,
      "outputs": [
        {
          "output_type": "stream",
          "name": "stdout",
          "text": [
            "[15.45, 24.5, 9.5, 10.75, 20.0, 18.0, 11.25]\n"
          ]
        }
      ]
    }
  ]
}